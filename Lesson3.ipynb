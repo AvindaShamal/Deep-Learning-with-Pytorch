{
 "cells": [
  {
   "cell_type": "markdown",
   "metadata": {},
   "source": [
    "# Convolutional Neural Networks"
   ]
  },
  {
   "cell_type": "code",
   "execution_count": 4,
   "metadata": {},
   "outputs": [],
   "source": [
    "import torch\n",
    "import torch.nn as nn\n",
    "import torch.nn.functional as F\n",
    "from torch.utils.data import DataLoader\n",
    "from torchvision import datasets, transforms\n",
    "from torchvision.utils import make_grid\n",
    "import numpy as np\n",
    "import pandas as pd\n",
    "from sklearn.metrics import confusion_matrix\n",
    "import matplotlib.pyplot as plt\n",
    "%matplotlib inline"
   ]
  },
  {
   "cell_type": "code",
   "execution_count": 5,
   "metadata": {},
   "outputs": [],
   "source": [
    "#convert MNIST image files into a Tensor of 4-dimensions(# of images, height, width, color channels)\n",
    "transform = transforms.ToTensor()"
   ]
  },
  {
   "cell_type": "code",
   "execution_count": 6,
   "metadata": {},
   "outputs": [],
   "source": [
    "train_data = datasets.MNIST(root = '/cnn_data', train=True, download=True, transform=transform)\n",
    "test_data = datasets.MNIST(root = '/cnn_data', train=False, download=True, transform=transform)"
   ]
  },
  {
   "cell_type": "code",
   "execution_count": 7,
   "metadata": {},
   "outputs": [
    {
     "data": {
      "text/plain": [
       "Dataset MNIST\n",
       "    Number of datapoints: 60000\n",
       "    Root location: /cnn_data\n",
       "    Split: Train\n",
       "    StandardTransform\n",
       "Transform: ToTensor()"
      ]
     },
     "execution_count": 7,
     "metadata": {},
     "output_type": "execute_result"
    }
   ],
   "source": [
    "train_data"
   ]
  },
  {
   "cell_type": "code",
   "execution_count": 8,
   "metadata": {},
   "outputs": [
    {
     "data": {
      "text/plain": [
       "Dataset MNIST\n",
       "    Number of datapoints: 10000\n",
       "    Root location: /cnn_data\n",
       "    Split: Test\n",
       "    StandardTransform\n",
       "Transform: ToTensor()"
      ]
     },
     "execution_count": 8,
     "metadata": {},
     "output_type": "execute_result"
    }
   ],
   "source": [
    "test_data"
   ]
  },
  {
   "cell_type": "code",
   "execution_count": 9,
   "metadata": {},
   "outputs": [
    {
     "data": {
      "text/plain": [
       "'d:\\\\GitHub\\\\Deep-Learning-with-Pytorch'"
      ]
     },
     "execution_count": 9,
     "metadata": {},
     "output_type": "execute_result"
    }
   ],
   "source": [
    "pwd"
   ]
  },
  {
   "cell_type": "code",
   "execution_count": 10,
   "metadata": {},
   "outputs": [
    {
     "name": "stdout",
     "output_type": "stream",
     "text": [
      " Volume in drive D is New Volume\n",
      " Volume Serial Number is 587D-D239\n",
      "\n",
      " Directory of d:\\GitHub\\Deep-Learning-with-Pytorch\n",
      "\n",
      "10/19/2024  12:15 AM    <DIR>          .\n",
      "10/20/2024  08:22 PM    <DIR>          ..\n",
      "10/11/2024  01:27 AM             3,301 .gitignore\n",
      "10/15/2024  01:18 PM             3,494 iris_model.pt\n",
      "10/11/2024  01:23 AM            41,116 Lesson1.ipynb\n",
      "10/20/2024  11:41 PM            67,264 Lesson2.ipynb\n",
      "10/19/2024  01:55 PM             7,802 Lesson3.ipynb\n",
      "10/11/2024  01:27 AM                28 README.md\n",
      "               6 File(s)        123,005 bytes\n",
      "               2 Dir(s)  153,607,925,760 bytes free\n"
     ]
    }
   ],
   "source": [
    "ls"
   ]
  },
  {
   "cell_type": "code",
   "execution_count": 11,
   "metadata": {},
   "outputs": [],
   "source": [
    "train_loader = DataLoader(train_data, batch_size=10, shuffle=True)\n",
    "test_loader = DataLoader(test_data, batch_size=10, shuffle=False)"
   ]
  },
  {
   "cell_type": "code",
   "execution_count": null,
   "metadata": {},
   "outputs": [],
   "source": [
    "conv1 = nn.Conv2d(in_channels=1, out_channels=6, kernel_size=3, stride=1)\n",
    "conv2 = nn.Conv2d(6, 16, 3, 1)"
   ]
  },
  {
   "cell_type": "code",
   "execution_count": 10,
   "metadata": {},
   "outputs": [],
   "source": [
    "# Grab one image in MNIST train data\n",
    "\n",
    "for i, (X_train, y_train) in enumerate(train_data):\n",
    "    break"
   ]
  },
  {
   "cell_type": "code",
   "execution_count": 22,
   "metadata": {},
   "outputs": [
    {
     "data": {
      "text/plain": [
       "torch.Size([1, 28, 28])"
      ]
     },
     "execution_count": 22,
     "metadata": {},
     "output_type": "execute_result"
    }
   ],
   "source": [
    "X_train.shape"
   ]
  },
  {
   "cell_type": "code",
   "execution_count": 23,
   "metadata": {},
   "outputs": [
    {
     "data": {
      "text/plain": [
       "torch.Size([1, 1, 28, 28])"
      ]
     },
     "execution_count": 23,
     "metadata": {},
     "output_type": "execute_result"
    }
   ],
   "source": [
    "x = X_train.view(1, 1 , 28, 28)\n",
    "x.shape"
   ]
  },
  {
   "cell_type": "code",
   "execution_count": 24,
   "metadata": {},
   "outputs": [
    {
     "data": {
      "text/plain": [
       "torch.Size([1, 6, 26, 26])"
      ]
     },
     "execution_count": 24,
     "metadata": {},
     "output_type": "execute_result"
    }
   ],
   "source": [
    "x = X_train.view(1, 1 , 28, 28)\n",
    "x = F.relu(conv1(x))\n",
    "x.shape"
   ]
  },
  {
   "cell_type": "markdown",
   "metadata": {},
   "source": [
    "1 single image, 6 filters and 26x26 image"
   ]
  },
  {
   "cell_type": "code",
   "execution_count": 25,
   "metadata": {},
   "outputs": [
    {
     "data": {
      "text/plain": [
       "torch.Size([1, 6, 13, 13])"
      ]
     },
     "execution_count": 25,
     "metadata": {},
     "output_type": "execute_result"
    }
   ],
   "source": [
    "x = F.max_pool2d(x, kernel_size=2, stride=2)\n",
    "x.shape"
   ]
  },
  {
   "cell_type": "code",
   "execution_count": 26,
   "metadata": {},
   "outputs": [
    {
     "data": {
      "text/plain": [
       "torch.Size([1, 16, 11, 11])"
      ]
     },
     "execution_count": 26,
     "metadata": {},
     "output_type": "execute_result"
    }
   ],
   "source": [
    "x = F.relu(conv2(x))\n",
    "x.shape"
   ]
  },
  {
   "cell_type": "code",
   "execution_count": 27,
   "metadata": {},
   "outputs": [
    {
     "data": {
      "text/plain": [
       "torch.Size([1, 16, 5, 5])"
      ]
     },
     "execution_count": 27,
     "metadata": {},
     "output_type": "execute_result"
    }
   ],
   "source": [
    "x = F.max_pool2d(x, kernel_size=2, stride=2)\n",
    "x.shape"
   ]
  },
  {
   "cell_type": "code",
   "execution_count": 12,
   "metadata": {},
   "outputs": [],
   "source": [
    "class CNN_model(nn.Module):\n",
    "    def __init__(self):\n",
    "        super().__init__()\n",
    "        self.conv1 = nn.Conv2d(1, 6, 3, 1)\n",
    "        self.conv2 = nn.Conv2d(6, 16, 3, 1)\n",
    "        \n",
    "        #Fully connected layer\n",
    "        self.fc1 = nn.Linear(5 * 5 *16, 128)\n",
    "        self.fc2 = nn.Linear(128, 64)\n",
    "        self.fc3 = nn.Linear(64, 10)\n",
    "        \n",
    "    def forward(self, X):\n",
    "        # first pass\n",
    "        X = F.relu(self.conv1(X))\n",
    "        X = F.max_pool2d(X, 2, 2)\n",
    "        # second pass\n",
    "        X = F.relu(self.conv2(X))\n",
    "        X = F.max_pool2d(X, 2, 2)\n",
    "        \n",
    "        # Re-view to flatten it out\n",
    "        X = X.view(-1, 5 * 5 * 16)\n",
    "        \n",
    "        # Fully connected layers\n",
    "        X = F.relu(self.fc1(X))\n",
    "        X = F.relu(self.fc2(X))\n",
    "        X = self.fc3(X)\n",
    "        return F.log_softmax(X, dim=1)"
   ]
  },
  {
   "cell_type": "code",
   "execution_count": 13,
   "metadata": {},
   "outputs": [
    {
     "data": {
      "text/plain": [
       "CNN_model(\n",
       "  (conv1): Conv2d(1, 6, kernel_size=(3, 3), stride=(1, 1))\n",
       "  (conv2): Conv2d(6, 16, kernel_size=(3, 3), stride=(1, 1))\n",
       "  (fc1): Linear(in_features=400, out_features=128, bias=True)\n",
       "  (fc2): Linear(in_features=128, out_features=64, bias=True)\n",
       "  (fc3): Linear(in_features=64, out_features=10, bias=True)\n",
       ")"
      ]
     },
     "execution_count": 13,
     "metadata": {},
     "output_type": "execute_result"
    }
   ],
   "source": [
    "model = CNN_model()\n",
    "model"
   ]
  },
  {
   "cell_type": "code",
   "execution_count": 14,
   "metadata": {},
   "outputs": [],
   "source": [
    "criterian = nn.CrossEntropyLoss()\n",
    "optimizer = torch.optim.Adam(model.parameters(), lr = 0.001)"
   ]
  },
  {
   "cell_type": "code",
   "execution_count": null,
   "metadata": {},
   "outputs": [
    {
     "name": "stdout",
     "output_type": "stream",
     "text": [
      "Epoch: 0 Batch: 1000 Loss: 0.08038105070590973\n",
      "Epoch: 0 Batch: 2000 Loss: 0.8423039317131042\n",
      "Epoch: 0 Batch: 3000 Loss: 0.045939452946186066\n",
      "Epoch: 0 Batch: 4000 Loss: 0.2777944803237915\n",
      "Epoch: 0 Batch: 5000 Loss: 0.0052370186895132065\n",
      "Epoch: 0 Batch: 6000 Loss: 0.1720704436302185\n",
      "Epoch: 1 Batch: 1000 Loss: 0.0203254371881485\n",
      "Epoch: 1 Batch: 2000 Loss: 0.2521364092826843\n",
      "Epoch: 1 Batch: 3000 Loss: 0.0033085779286921024\n",
      "Epoch: 1 Batch: 4000 Loss: 0.11261129379272461\n",
      "Epoch: 1 Batch: 5000 Loss: 0.0016869606915861368\n",
      "Epoch: 1 Batch: 6000 Loss: 0.002958751982077956\n",
      "Epoch: 2 Batch: 1000 Loss: 0.15150240063667297\n",
      "Epoch: 2 Batch: 2000 Loss: 0.10426217317581177\n",
      "Epoch: 2 Batch: 3000 Loss: 0.004305713810026646\n",
      "Epoch: 2 Batch: 4000 Loss: 0.42686066031455994\n",
      "Epoch: 2 Batch: 5000 Loss: 0.0028802831657230854\n",
      "Epoch: 2 Batch: 6000 Loss: 0.005850939080119133\n",
      "Epoch: 3 Batch: 1000 Loss: 0.07497389614582062\n",
      "Epoch: 3 Batch: 2000 Loss: 0.001166999340057373\n",
      "Epoch: 3 Batch: 3000 Loss: 6.134933937573805e-05\n",
      "Epoch: 3 Batch: 4000 Loss: 0.04489574208855629\n",
      "Epoch: 3 Batch: 5000 Loss: 0.009533415548503399\n",
      "Epoch: 3 Batch: 6000 Loss: 0.033670686185359955\n",
      "Epoch: 4 Batch: 1000 Loss: 0.09229792654514313\n",
      "Epoch: 4 Batch: 2000 Loss: 4.7688074118923396e-05\n",
      "Epoch: 4 Batch: 3000 Loss: 0.2378832846879959\n",
      "Epoch: 4 Batch: 4000 Loss: 0.058082617819309235\n",
      "Epoch: 4 Batch: 5000 Loss: 0.00019624960259534419\n",
      "Epoch: 4 Batch: 6000 Loss: 8.549545600544661e-05\n",
      "Time: 2.8735957940419516 minutes\n"
     ]
    }
   ],
   "source": [
    "import time\n",
    "start_time = time.time()\n",
    "\n",
    "# create varibales to track things\n",
    "epochs = 5\n",
    "train_losses = []\n",
    "test_losses = []\n",
    "train_correct = []\n",
    "test_correct = []\n",
    "\n",
    "for i in range(epochs):\n",
    "    train_corr = 0\n",
    "    test_corr = 0\n",
    "    \n",
    "    # Train\n",
    "    for b, (X_train, y_train) in enumerate(train_loader):\n",
    "        b += 1  #start batch number at 1\n",
    "        y_pred = model(X_train)\n",
    "        loss = criterian(y_pred, y_train)\n",
    "        \n",
    "        predicted = torch.max(y_pred.data, 1)[1] # add up the number of correct predictions. Indexed off the firdt point\n",
    "        batch_corr = (predicted == y_train).sum() # how many we got correct from this batch. True=1, False=0, sum those up\n",
    "        train_corr += batch_corr\n",
    "        \n",
    "        # update parameters\n",
    "        optimizer.zero_grad()\n",
    "        loss.backward()\n",
    "        optimizer.step()\n",
    "        \n",
    "        # print out some results\n",
    "        if b%1000 == 0:\n",
    "            print(f\"Epoch: {i + 1} Batch: {b} Loss: {loss.item()}\")\n",
    "            \n",
    "    train_losses.append(loss)\n",
    "    train_correct.append(train_corr)\n",
    "    \n",
    "    #Test\n",
    "    with torch.no_grad(): # No gradient so we don't update our weights and biases with test data\n",
    "        for b, (X_test, y_test) in enumerate(test_loader):\n",
    "            y_val = model(X_test)\n",
    "            loss = criterian(y_pred, y_train)\n",
    "        \n",
    "            predicted = torch.max(y_val.data, 1)[1] # adding up the correct predictions\n",
    "            tst_corr = (predicted == y_train).sum() # how many we got correct from this batch. True=1, False=0, sum those up\n",
    "            \n",
    "    test_losses.append(loss)\n",
    "    test_correct.append(tst_corr)\n",
    "    \n",
    "current_time = time.time()\n",
    "total_time = (current_time - start_time)\n",
    "print(f\"Time: {total_time/60} minutes\")\n",
    "            "
   ]
  }
 ],
 "metadata": {
  "kernelspec": {
   "display_name": "Python 3",
   "language": "python",
   "name": "python3"
  },
  "language_info": {
   "codemirror_mode": {
    "name": "ipython",
    "version": 3
   },
   "file_extension": ".py",
   "mimetype": "text/x-python",
   "name": "python",
   "nbconvert_exporter": "python",
   "pygments_lexer": "ipython3",
   "version": "3.11.4"
  }
 },
 "nbformat": 4,
 "nbformat_minor": 2
}
